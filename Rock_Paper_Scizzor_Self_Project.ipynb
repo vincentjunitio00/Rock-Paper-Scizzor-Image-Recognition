{
  "nbformat": 4,
  "nbformat_minor": 0,
  "metadata": {
    "colab": {
      "name": "Rock Paper Scizzor Self Project",
      "provenance": [],
      "collapsed_sections": [],
      "authorship_tag": "ABX9TyMVRupOGaWnYAF/qERyT2Zn",
      "include_colab_link": true
    },
    "kernelspec": {
      "name": "python3",
      "display_name": "Python 3"
    }
  },
  "cells": [
    {
      "cell_type": "markdown",
      "metadata": {
        "id": "view-in-github",
        "colab_type": "text"
      },
      "source": [
        "<a href=\"https://colab.research.google.com/github/vincentjunitio00/Rock-Paper-Scizzor-Image-Recognition/blob/master/Rock_Paper_Scizzor_Self_Project.ipynb\" target=\"_parent\"><img src=\"https://colab.research.google.com/assets/colab-badge.svg\" alt=\"Open In Colab\"/></a>"
      ]
    },
    {
      "cell_type": "code",
      "metadata": {
        "id": "qOduFivDWB75",
        "colab_type": "code",
        "colab": {}
      },
      "source": [
        ""
      ],
      "execution_count": 0,
      "outputs": []
    }
  ]
}